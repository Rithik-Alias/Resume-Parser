{
 "cells": [
  {
   "cell_type": "code",
   "execution_count": 1,
   "id": "eea7faf6",
   "metadata": {},
   "outputs": [
    {
     "name": "stdout",
     "output_type": "stream",
     "text": [
      "Collecting en-core-web-trf==3.1.0\n",
      "  Downloading https://github.com/explosion/spacy-models/releases/download/en_core_web_trf-3.1.0/en_core_web_trf-3.1.0-py3-none-any.whl (460.2 MB)\n",
      "Collecting spacy-transformers<1.1.0,>=1.0.3\n",
      "  Downloading spacy_transformers-1.0.6-py2.py3-none-any.whl (42 kB)\n",
      "Requirement already satisfied: spacy<3.2.0,>=3.1.0 in c:\\anaconda\\lib\\site-packages (from en-core-web-trf==3.1.0) (3.1.3)\n",
      "Requirement already satisfied: requests<3.0.0,>=2.13.0 in c:\\anaconda\\lib\\site-packages (from spacy<3.2.0,>=3.1.0->en-core-web-trf==3.1.0) (2.25.1)\n",
      "Requirement already satisfied: packaging>=20.0 in c:\\anaconda\\lib\\site-packages (from spacy<3.2.0,>=3.1.0->en-core-web-trf==3.1.0) (20.9)\n",
      "Requirement already satisfied: cymem<2.1.0,>=2.0.2 in c:\\anaconda\\lib\\site-packages (from spacy<3.2.0,>=3.1.0->en-core-web-trf==3.1.0) (2.0.6)\n",
      "Requirement already satisfied: catalogue<2.1.0,>=2.0.6 in c:\\anaconda\\lib\\site-packages (from spacy<3.2.0,>=3.1.0->en-core-web-trf==3.1.0) (2.0.6)\n",
      "Requirement already satisfied: thinc<8.1.0,>=8.0.9 in c:\\anaconda\\lib\\site-packages (from spacy<3.2.0,>=3.1.0->en-core-web-trf==3.1.0) (8.0.11)\n",
      "Requirement already satisfied: murmurhash<1.1.0,>=0.28.0 in c:\\anaconda\\lib\\site-packages (from spacy<3.2.0,>=3.1.0->en-core-web-trf==3.1.0) (1.0.6)\n",
      "Requirement already satisfied: tqdm<5.0.0,>=4.38.0 in c:\\anaconda\\lib\\site-packages (from spacy<3.2.0,>=3.1.0->en-core-web-trf==3.1.0) (4.59.0)\n",
      "Requirement already satisfied: spacy-legacy<3.1.0,>=3.0.8 in c:\\anaconda\\lib\\site-packages (from spacy<3.2.0,>=3.1.0->en-core-web-trf==3.1.0) (3.0.8)\n",
      "Requirement already satisfied: setuptools in c:\\anaconda\\lib\\site-packages (from spacy<3.2.0,>=3.1.0->en-core-web-trf==3.1.0) (52.0.0.post20210125)\n",
      "Requirement already satisfied: wasabi<1.1.0,>=0.8.1 in c:\\anaconda\\lib\\site-packages (from spacy<3.2.0,>=3.1.0->en-core-web-trf==3.1.0) (0.8.2)\n",
      "Requirement already satisfied: preshed<3.1.0,>=3.0.2 in c:\\anaconda\\lib\\site-packages (from spacy<3.2.0,>=3.1.0->en-core-web-trf==3.1.0) (3.0.6)\n",
      "Requirement already satisfied: srsly<3.0.0,>=2.4.1 in c:\\anaconda\\lib\\site-packages (from spacy<3.2.0,>=3.1.0->en-core-web-trf==3.1.0) (2.4.2)\n",
      "Requirement already satisfied: pathy>=0.3.5 in c:\\anaconda\\lib\\site-packages (from spacy<3.2.0,>=3.1.0->en-core-web-trf==3.1.0) (0.6.0)\n",
      "Requirement already satisfied: blis<0.8.0,>=0.4.0 in c:\\anaconda\\lib\\site-packages (from spacy<3.2.0,>=3.1.0->en-core-web-trf==3.1.0) (0.7.5)\n",
      "Requirement already satisfied: pydantic!=1.8,!=1.8.1,<1.9.0,>=1.7.4 in c:\\anaconda\\lib\\site-packages (from spacy<3.2.0,>=3.1.0->en-core-web-trf==3.1.0) (1.8.2)\n",
      "Requirement already satisfied: jinja2 in c:\\anaconda\\lib\\site-packages (from spacy<3.2.0,>=3.1.0->en-core-web-trf==3.1.0) (2.11.3)\n",
      "Requirement already satisfied: numpy>=1.15.0 in c:\\anaconda\\lib\\site-packages (from spacy<3.2.0,>=3.1.0->en-core-web-trf==3.1.0) (1.20.1)\n",
      "Requirement already satisfied: typer<0.5.0,>=0.3.0 in c:\\anaconda\\lib\\site-packages (from spacy<3.2.0,>=3.1.0->en-core-web-trf==3.1.0) (0.4.0)\n",
      "Requirement already satisfied: pyparsing>=2.0.2 in c:\\anaconda\\lib\\site-packages (from packaging>=20.0->spacy<3.2.0,>=3.1.0->en-core-web-trf==3.1.0) (2.4.7)\n",
      "Requirement already satisfied: smart-open<6.0.0,>=5.0.0 in c:\\anaconda\\lib\\site-packages (from pathy>=0.3.5->spacy<3.2.0,>=3.1.0->en-core-web-trf==3.1.0) (5.2.1)\n",
      "Requirement already satisfied: typing-extensions>=3.7.4.3 in c:\\anaconda\\lib\\site-packages (from pydantic!=1.8,!=1.8.1,<1.9.0,>=1.7.4->spacy<3.2.0,>=3.1.0->en-core-web-trf==3.1.0) (3.7.4.3)\n",
      "Requirement already satisfied: chardet<5,>=3.0.2 in c:\\anaconda\\lib\\site-packages (from requests<3.0.0,>=2.13.0->spacy<3.2.0,>=3.1.0->en-core-web-trf==3.1.0) (4.0.0)\n",
      "Requirement already satisfied: urllib3<1.27,>=1.21.1 in c:\\anaconda\\lib\\site-packages (from requests<3.0.0,>=2.13.0->spacy<3.2.0,>=3.1.0->en-core-web-trf==3.1.0) (1.26.4)\n",
      "Requirement already satisfied: certifi>=2017.4.17 in c:\\anaconda\\lib\\site-packages (from requests<3.0.0,>=2.13.0->spacy<3.2.0,>=3.1.0->en-core-web-trf==3.1.0) (2020.12.5)\n",
      "Requirement already satisfied: idna<3,>=2.5 in c:\\anaconda\\lib\\site-packages (from requests<3.0.0,>=2.13.0->spacy<3.2.0,>=3.1.0->en-core-web-trf==3.1.0) (2.10)\n",
      "Collecting torch>=1.5.0\n",
      "  Downloading torch-1.10.0-cp38-cp38-win_amd64.whl (226.6 MB)\n",
      "Collecting transformers<4.10.0,>=3.4.0\n",
      "  Downloading transformers-4.9.2-py3-none-any.whl (2.6 MB)\n",
      "Collecting spacy-alignments<1.0.0,>=0.7.2\n",
      "  Downloading spacy_alignments-0.8.3-cp38-cp38-win_amd64.whl (179 kB)\n",
      "Requirement already satisfied: filelock in c:\\anaconda\\lib\\site-packages (from transformers<4.10.0,>=3.4.0->spacy-transformers<1.1.0,>=1.0.3->en-core-web-trf==3.1.0) (3.0.12)\n",
      "Collecting huggingface-hub==0.0.12\n",
      "  Downloading huggingface_hub-0.0.12-py3-none-any.whl (37 kB)\n",
      "Collecting sacremoses\n",
      "  Downloading sacremoses-0.0.46-py3-none-any.whl (895 kB)\n",
      "Requirement already satisfied: regex!=2019.12.17 in c:\\anaconda\\lib\\site-packages (from transformers<4.10.0,>=3.4.0->spacy-transformers<1.1.0,>=1.0.3->en-core-web-trf==3.1.0) (2021.4.4)\n",
      "Requirement already satisfied: pyyaml>=5.1 in c:\\anaconda\\lib\\site-packages (from transformers<4.10.0,>=3.4.0->spacy-transformers<1.1.0,>=1.0.3->en-core-web-trf==3.1.0) (5.4.1)\n",
      "Collecting tokenizers<0.11,>=0.10.1\n",
      "  Downloading tokenizers-0.10.3-cp38-cp38-win_amd64.whl (2.0 MB)\n",
      "Requirement already satisfied: click<9.0.0,>=7.1.1 in c:\\anaconda\\lib\\site-packages (from typer<0.5.0,>=0.3.0->spacy<3.2.0,>=3.1.0->en-core-web-trf==3.1.0) (7.1.2)\n",
      "Requirement already satisfied: MarkupSafe>=0.23 in c:\\anaconda\\lib\\site-packages (from jinja2->spacy<3.2.0,>=3.1.0->en-core-web-trf==3.1.0) (1.1.1)\n",
      "Requirement already satisfied: joblib in c:\\anaconda\\lib\\site-packages (from sacremoses->transformers<4.10.0,>=3.4.0->spacy-transformers<1.1.0,>=1.0.3->en-core-web-trf==3.1.0) (1.0.1)\n",
      "Requirement already satisfied: six in c:\\anaconda\\lib\\site-packages (from sacremoses->transformers<4.10.0,>=3.4.0->spacy-transformers<1.1.0,>=1.0.3->en-core-web-trf==3.1.0) (1.15.0)\n",
      "Installing collected packages: tokenizers, sacremoses, huggingface-hub, transformers, torch, spacy-alignments, spacy-transformers, en-core-web-trf\n",
      "Successfully installed en-core-web-trf-3.1.0 huggingface-hub-0.0.12 sacremoses-0.0.46 spacy-alignments-0.8.3 spacy-transformers-1.0.6 tokenizers-0.10.3 torch-1.10.0 transformers-4.9.2\n",
      "[+] Download and installation successful\n",
      "You can now load the package via spacy.load('en_core_web_trf')\n"
     ]
    }
   ],
   "source": [
    "!python -m spacy download en_core_web_trf"
   ]
  },
  {
   "cell_type": "code",
   "execution_count": 2,
   "id": "a76c5dc3",
   "metadata": {
    "scrolled": true
   },
   "outputs": [
    {
     "name": "stdout",
     "output_type": "stream",
     "text": [
      "E:\\Ravi\\Home Backup\\Documents\\Personal\\Reflections_Documents\\Output_NER-First\n"
     ]
    }
   ],
   "source": [
    "cd E:\\Ravi\\Home Backup\\Documents\\Personal\\Reflections_Documents\\Output_NER-First"
   ]
  },
  {
   "cell_type": "code",
   "execution_count": 3,
   "id": "b1bf48bf",
   "metadata": {},
   "outputs": [
    {
     "name": "stdout",
     "output_type": "stream",
     "text": [
      "Requirement already satisfied: spacy in c:\\anaconda\\lib\\site-packages (3.1.3)\n",
      "Requirement already satisfied: spacy-legacy<3.1.0,>=3.0.8 in c:\\anaconda\\lib\\site-packages (from spacy) (3.0.8)\n",
      "Requirement already satisfied: murmurhash<1.1.0,>=0.28.0 in c:\\anaconda\\lib\\site-packages (from spacy) (1.0.6)\n",
      "Requirement already satisfied: typer<0.5.0,>=0.3.0 in c:\\anaconda\\lib\\site-packages (from spacy) (0.4.0)\n",
      "Requirement already satisfied: tqdm<5.0.0,>=4.38.0 in c:\\anaconda\\lib\\site-packages (from spacy) (4.59.0)\n",
      "Requirement already satisfied: srsly<3.0.0,>=2.4.1 in c:\\anaconda\\lib\\site-packages (from spacy) (2.4.2)\n",
      "Requirement already satisfied: jinja2 in c:\\anaconda\\lib\\site-packages (from spacy) (2.11.3)\n",
      "Requirement already satisfied: wasabi<1.1.0,>=0.8.1 in c:\\anaconda\\lib\\site-packages (from spacy) (0.8.2)\n",
      "Requirement already satisfied: catalogue<2.1.0,>=2.0.6 in c:\\anaconda\\lib\\site-packages (from spacy) (2.0.6)\n",
      "Requirement already satisfied: cymem<2.1.0,>=2.0.2 in c:\\anaconda\\lib\\site-packages (from spacy) (2.0.6)\n",
      "Requirement already satisfied: preshed<3.1.0,>=3.0.2 in c:\\anaconda\\lib\\site-packages (from spacy) (3.0.6)\n",
      "Requirement already satisfied: numpy>=1.15.0 in c:\\anaconda\\lib\\site-packages (from spacy) (1.20.1)\n",
      "Requirement already satisfied: requests<3.0.0,>=2.13.0 in c:\\anaconda\\lib\\site-packages (from spacy) (2.25.1)\n",
      "Requirement already satisfied: setuptools in c:\\anaconda\\lib\\site-packages (from spacy) (52.0.0.post20210125)\n",
      "Requirement already satisfied: packaging>=20.0 in c:\\anaconda\\lib\\site-packages (from spacy) (20.9)\n",
      "Requirement already satisfied: pathy>=0.3.5 in c:\\anaconda\\lib\\site-packages (from spacy) (0.6.0)\n",
      "Requirement already satisfied: pydantic!=1.8,!=1.8.1,<1.9.0,>=1.7.4 in c:\\anaconda\\lib\\site-packages (from spacy) (1.8.2)\n",
      "Requirement already satisfied: blis<0.8.0,>=0.4.0 in c:\\anaconda\\lib\\site-packages (from spacy) (0.7.5)\n",
      "Requirement already satisfied: thinc<8.1.0,>=8.0.9 in c:\\anaconda\\lib\\site-packages (from spacy) (8.0.11)\n",
      "Requirement already satisfied: pyparsing>=2.0.2 in c:\\anaconda\\lib\\site-packages (from packaging>=20.0->spacy) (2.4.7)\n",
      "Requirement already satisfied: smart-open<6.0.0,>=5.0.0 in c:\\anaconda\\lib\\site-packages (from pathy>=0.3.5->spacy) (5.2.1)\n",
      "Requirement already satisfied: typing-extensions>=3.7.4.3 in c:\\anaconda\\lib\\site-packages (from pydantic!=1.8,!=1.8.1,<1.9.0,>=1.7.4->spacy) (3.7.4.3)\n",
      "Requirement already satisfied: idna<3,>=2.5 in c:\\anaconda\\lib\\site-packages (from requests<3.0.0,>=2.13.0->spacy) (2.10)\n",
      "Requirement already satisfied: urllib3<1.27,>=1.21.1 in c:\\anaconda\\lib\\site-packages (from requests<3.0.0,>=2.13.0->spacy) (1.26.4)\n",
      "Requirement already satisfied: chardet<5,>=3.0.2 in c:\\anaconda\\lib\\site-packages (from requests<3.0.0,>=2.13.0->spacy) (4.0.0)\n",
      "Requirement already satisfied: certifi>=2017.4.17 in c:\\anaconda\\lib\\site-packages (from requests<3.0.0,>=2.13.0->spacy) (2020.12.5)\n",
      "Requirement already satisfied: click<9.0.0,>=7.1.1 in c:\\anaconda\\lib\\site-packages (from typer<0.5.0,>=0.3.0->spacy) (7.1.2)\n",
      "Requirement already satisfied: MarkupSafe>=0.23 in c:\\anaconda\\lib\\site-packages (from jinja2->spacy) (1.1.1)\n",
      "Note: you may need to restart the kernel to use updated packages.\n"
     ]
    }
   ],
   "source": [
    "pip install -U spacy"
   ]
  },
  {
   "cell_type": "code",
   "execution_count": 4,
   "id": "755d02a4",
   "metadata": {},
   "outputs": [],
   "source": [
    "import spacy\n",
    "nlp = spacy.load(\"model-best\")"
   ]
  },
  {
   "cell_type": "code",
   "execution_count": 5,
   "id": "a85c9e4a",
   "metadata": {},
   "outputs": [
    {
     "name": "stderr",
     "output_type": "stream",
     "text": [
      "C:\\Anaconda\\lib\\site-packages\\torch\\autocast_mode.py:141: UserWarning: User provided device_type of 'cuda', but CUDA is not available. Disabling\n",
      "  warnings.warn('User provided device_type of \\'cuda\\', but CUDA is not available. Disabling')\n"
     ]
    },
    {
     "name": "stdout",
     "output_type": "stream",
     "text": [
      "[(0, 2, 'Over 10', 'Total'), (8, 10, 'General Labourer', 'Designation'), (15, 17, 'Forklift Training', 'Skills'), (24, 25, 'WHMIS', 'Skills'), (26, 28, 'First Aid', 'Skills'), (29, 30, 'CPR', 'Skills'), (42, 43, 'lathes', 'Skills'), (44, 46, 'drill presses', 'Skills')]\n"
     ]
    }
   ],
   "source": [
    "text=['''Over 10 years’ experience working as a General Labourer within various manufacturing environments\n",
    "\n",
    "Forklift Training Safety Certification, 2008\n",
    "\n",
    "Certified in WHMIS and First Aid/CPR\n",
    "\n",
    "Hands-on experience with operating and maintaining machinery such as lathes and drill presses\n",
    "\n",
    "Excellent time management skills and an impressive attendance record''']\n",
    "#Text1=['''\\tFor Appellant-applicant(s)             :      Mr. KN Bhattacharji, Sr. Adv                                               Ms. S. Chakraborty, Advocate For Respondent-petitioner(s)           :      None.\\n\\n\\tHON'BLE MR. JUSTICE S. TALAPATRA                                         Order  22/03/2018          Heard Mr KN Bhattacharji, learned senior counsel assisted by Ms. S.  Chakraborty, learned counsel appearing for the appellant-applicant.\\n\\n\\tThis is an application under Section 5 of the Limitation Act for condoning  the delay of 422 days in preferring the application under Order XLI rule 19 of the  CPC for re-admission of the appeal being MAC APP 18 of 2015 filed by the  applicant, which was dismissed for non prosecution by the order dated  09.01.2017.\\n\\n\\n\\tIssue notice calling upon the respondents to show cause as to why the delay  of 422 days in preferring the application under Order XLI rule 19 of the CPC  shall not be condoned, as prayed for; and/or why such further and other order(s)  shall not be passed as to this Court may deem fit and proper.\\n\\n\\tNotice is made returnable on 07.05.2018.       The petitioner shall take steps for service of notice upon the respondent-  petitioners by registered post with AD within a week from today.''']\n",
    "for doc in nlp.pipe(text, disable=[\"tagger\", \"parser\"]):\n",
    "    print([(ent.start,ent.end,ent.text, ent.label_) for ent in doc.ents])"
   ]
  },
  {
   "cell_type": "code",
   "execution_count": 6,
   "id": "9bc4480b",
   "metadata": {},
   "outputs": [
    {
     "name": "stdout",
     "output_type": "stream",
     "text": [
      "[(0, 2, 'Stephen Greet', 'Name'), (8, 10, 'Data Scientist', 'Designation'), (11, 13, '(123', 'Phone'), (13, 15, ') 456', 'Phone'), (15, 16, '-', 'Phone'), (16, 17, '7890', 'Phone'), (18, 19, 'stephen@beamjobs.com', 'dress'), (22, 23, 'stephen', 'Skills'), (23, 24, '-', 'Skills'), (27, 29, 'Data Science', 'Designation'), (38, 42, 'Market Research Analyst Intern', 'Designation'), (43, 44, 'April', 'perience'), (44, 45, '2019', 'perience'), (45, 46, '-', 'perience'), (46, 47, 'March', 'perience'), (47, 48, '2020', 'perience'), (65, 66, 'SAS', 'Skills'), (66, 67, ',', 'Skills'), (67, 68, 'SQL', 'Skills'), (68, 69, ',', 'Skills'), (70, 71, 'Excel', 'Skills'), (96, 97, 'SAS', 'Skills'), (122, 125, 'Fantasy Football Modeling', 'Skills'), (139, 141, '5 years', 'Total'), (153, 154, 'MySQL', 'Skills'), (163, 164, 'SAS', 'Skills'), (195, 196, 'imdb', 'Skills'), (207, 208, 'SAS', 'Skills'), (226, 228, '18 minutes', 'Total'), (243, 244, 'B.S.', 'Degree'), (249, 254, 'September 2016 - April 2020', 'Total'), (262, 267, '3.7\\n\\n● Relevant courses', 'Total'), (268, 270, 'Intermediate programming', 'Skills'), (271, 274, 'Probability & Statistics', 'Skills'), (274, 275, ',', 'Skills'), (275, 277, 'Linear Algebra', 'Skills'), (277, 278, ',', 'Skills'), (278, 280, 'Applied Econometrics', 'Skills'), (280, 281, ',', 'Skills'), (281, 283, 'Game Theory', 'Skills'), (283, 284, ',', 'Skills'), (284, 286, 'Calculus 1', 'Skills'), (294, 295, 'SAS', 'Skills'), (297, 298, 'SAS', 'Skills'), (299, 300, 'Macros', 'Skills'), (300, 301, ')', 'Skills'), (301, 302, ',', 'Skills'), (302, 303, 'SQL', 'Skills'), (312, 316, 'linear and logistic regressions', 'Skills'), (317, 319, 'decision trees', 'Skills'), (319, 320, ',', 'Skills'), (320, 323, 'support vector machines', 'Skills'), (324, 325, 'SVM', 'Skills'), (331, 333, 'k-', 'Skills'), (333, 335, 'means clustering', 'Skills'), (336, 339, 'principal component analysis', 'Skills'), (340, 341, 'PCA', 'Skills'), (344, 346, 'Data Visualization', 'Skills'), (347, 348, 'Excel', 'Skills'), (348, 349, ',', 'Skills'), (349, 351, 'Google Sheets', 'Skills')]\n"
     ]
    }
   ],
   "source": [
    "text=['''Stephen Greet\n",
    "Brooklyn, NY 11222\n",
    "Data Scientist\n",
    "(123) 456-7890\n",
    "stephen@beamjobs.com\n",
    "/in/stephen-greet       \n",
    "020 Data Science Resume Guide\n",
    "\n",
    "Experience\n",
    "Marketing Science Company - Market Research Analyst Intern\n",
    "April 2019 - March 2020\n",
    "Pittsburgh, PA\n",
    "● Received, cleaned, and prepped data from our client using SAS, SQL, and Excel to help data scientists build marketing mix models that resulted in a lift in ROI of 6 basis points\n",
    "● Developed a program in SAS that automated refinement of linear regression models for specific segments of a customer base that saves 25 hours of labor each month\n",
    "\n",
    "Projects\n",
    "Fantasy Football Modeling\n",
    "● Wanted to stop losing at fantasy football so I aggregated and prepped 5 years of NFL fantasy football projection data from 6 independent sources into a MySQL database\n",
    "● Built a random forest model in SAS that combined the disparate sources into one projection that outperformed the mean absolute error of the next best projection by 18%\n",
    "Movie Recommendation Engine\n",
    "● Aggregated data from imdb and rotten tomatoes and used k-nearest-neighbors in SAS to build a better movie recommendation system for my snobby tastes\n",
    "● I save an average of 18 minutes on movie selection relative to my previous methodology\n",
    "\n",
    "Education\n",
    "University of Pittsburgh - B.S. in Mathematics and Economics\n",
    "September 2016 - April 2020\n",
    "Pittsburgh, PA\n",
    "Cumulative GPA: 3.7\n",
    "\n",
    "● Relevant courses: Intermediate programming, Probability & Statistics, Linear Algebra, Applied Econometrics, Game Theory, Calculus 1-3\n",
    "\n",
    "Skills\n",
    "● Programming: SAS (base SAS and Macros), SQL\n",
    "● Modeling:\n",
    "    ○ Supervised Learning: linear and logistic regressions, decision trees, support vector machines (SVM)\n",
    "    ○ Unsupervised Learning: k-means clustering, principal component analysis (PCA)\n",
    "● Data Visualization: Excel, Google Sheets\n",
    "''']\n",
    "\n",
    "for doc in nlp.pipe(text, disable=[\"tagger\", \"parser\"]):\n",
    "    print([(ent.start,ent.end,ent.text, ent.label_) for ent in doc.ents])"
   ]
  },
  {
   "cell_type": "code",
   "execution_count": null,
   "id": "7f3f1053",
   "metadata": {},
   "outputs": [],
   "source": []
  }
 ],
 "metadata": {
  "kernelspec": {
   "display_name": "Python 3",
   "language": "python",
   "name": "python3"
  },
  "language_info": {
   "codemirror_mode": {
    "name": "ipython",
    "version": 3
   },
   "file_extension": ".py",
   "mimetype": "text/x-python",
   "name": "python",
   "nbconvert_exporter": "python",
   "pygments_lexer": "ipython3",
   "version": "3.8.8"
  }
 },
 "nbformat": 4,
 "nbformat_minor": 5
}
